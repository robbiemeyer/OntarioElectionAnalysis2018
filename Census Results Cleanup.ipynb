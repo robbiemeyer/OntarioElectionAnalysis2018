{
 "cells": [
  {
   "cell_type": "code",
   "execution_count": 121,
   "metadata": {
    "scrolled": true
   },
   "outputs": [],
   "source": [
    "import pandas as pd\n",
    "\n",
    "# Import the raw census results\n",
    "raw_census = pd.read_csv('./CanadaCensus2016/98-401-X2016045_English_CSV_data.csv',\n",
    "                         index_col=0,\n",
    "                         skiprows=lambda r: r != 0 and 260653 > r or 534786 < r,\n",
    "                         usecols=['GEO_NAME',\n",
    "                                  'DIM: Profile of Federal Electoral Districts (2013 Representation Order) (2247)',\n",
    "                                  'Dim: Sex (3): Member ID: [1]: Total - Sex',\n",
    "                                  'Dim: Sex (3): Member ID: [2]: Male',\n",
    "                                  'Dim: Sex (3): Member ID: [3]: Female'],\n",
    "                         low_memory=False)\n",
    "raw_census.columns = ['DIM', 'Total', 'Male', 'Female']\n",
    "raw_census.sort_index(inplace=True)"
   ]
  },
  {
   "cell_type": "code",
   "execution_count": 122,
   "metadata": {
    "scrolled": false
   },
   "outputs": [],
   "source": [
    "# Import a riding lookup to convert the riding names from the census names to the election result names\n",
    "riding_lookup = pd.read_csv('./ridingcensuslookup.csv',\n",
    "                            header=None,\n",
    "                            index_col=0,\n",
    "                            squeeze=True).to_dict()\n",
    "raw_census.rename(index=riding_lookup, inplace=True)"
   ]
  },
  {
   "cell_type": "code",
   "execution_count": 175,
   "metadata": {},
   "outputs": [],
   "source": [
    "census_out = pd.DataFrame()"
   ]
  },
  {
   "cell_type": "code",
   "execution_count": 176,
   "metadata": {},
   "outputs": [],
   "source": [
    "census_out['2016 Population'] = raw_census.loc[raw_census.DIM == 'Population, 2016', 'Total'].astype('int')"
   ]
  },
  {
   "cell_type": "code",
   "execution_count": 177,
   "metadata": {},
   "outputs": [],
   "source": [
    "def age_range_series(df, age_range):\n",
    "    return (df.where(df['DIM'] == age_range).groupby(df.index).Total.max() / census_out['2016 Population'] * 100).round(2)\n",
    "\n",
    "census_out['Pop. % 0-19'] = age_range_series(raw_census, '0 to 14 years') + age_range_series(raw_census, '15 to 19 years')\n",
    "census_out['Pop. % 20-39'] = (age_range_series(raw_census, '20 to 24 years')\n",
    "                              + age_range_series(raw_census, '25 to 29 years')\n",
    "                              + age_range_series(raw_census, '30 to 34 years')\n",
    "                              + age_range_series(raw_census, '35 to 39 years'))\n",
    "census_out['Pop. % 40-59'] = (age_range_series(raw_census, '40 to 44 years')\n",
    "                              + age_range_series(raw_census, '45 to 49 years')\n",
    "                              + age_range_series(raw_census, '50 to 54 years')\n",
    "                              + age_range_series(raw_census, '55 to 59 years'))\n",
    "census_out['Pop. % 60-79'] = (age_range_series(raw_census, '60 to 64 years')\n",
    "                              + age_range_series(raw_census, '65 to 69 years') \n",
    "                              + age_range_series(raw_census, '70 to 74 years')\n",
    "                              + age_range_series(raw_census, '75 to 79 years'))\n",
    "census_out['Pop. % 80-'] = (age_range_series(raw_census, '80 to 84 years')\n",
    "                              + age_range_series(raw_census, '85 to 89 years')\n",
    "                              + age_range_series(raw_census, '90 to 94 years')\n",
    "                              + age_range_series(raw_census, '95 to 99 years')\n",
    "                              + age_range_series(raw_census, '100 years and over'))"
   ]
  },
  {
   "cell_type": "code",
   "execution_count": 178,
   "metadata": {},
   "outputs": [],
   "source": [
    "census_out['Pop Density (km^2)'] = raw_census.loc[raw_census.DIM == 'Population density per square kilometre', 'Total']"
   ]
  },
  {
   "cell_type": "code",
   "execution_count": 186,
   "metadata": {},
   "outputs": [],
   "source": [
    "census_out['% Male'] = (raw_census.loc[raw_census.DIM == 'Total - Age groups and average age of the population - 100% data', 'Male'].astype('int') /\n",
    "                        raw_census.loc[raw_census.DIM == 'Total - Age groups and average age of the population - 100% data', 'Total'] *\n",
    "                        100).round(2)"
   ]
  },
  {
   "cell_type": "code",
   "execution_count": 206,
   "metadata": {},
   "outputs": [],
   "source": [
    "census_out['% Married/Common Law'] = (raw_census.loc[raw_census.DIM == 'Married or living common law', 'Total'] /\n",
    "                                      raw_census.loc[raw_census.DIM == 'Total - Marital status for the population aged 15 years and over - 100% data', 'Total'] *\n",
    "                                      100).round(2)\n",
    "census_out['% Divorced'] = (raw_census.loc[raw_census.DIM == 'Divorced', 'Total'] /\n",
    "                            raw_census.loc[raw_census.DIM == 'Total - Marital status for the population aged 15 years and over - 100% data', 'Total'] *\n",
    "                            100).round(2)\n",
    "census_out['% Lone Parent'] = (raw_census.loc[raw_census.DIM == 'Total - Lone-parent census families in private households - 100% data', 'Total'] /\n",
    "                               raw_census.loc[raw_census.DIM == 'Total number of census families in private households - 100% data', 'Total'] *\n",
    "                               100).round(2)"
   ]
  },
  {
   "cell_type": "code",
   "execution_count": 211,
   "metadata": {},
   "outputs": [],
   "source": [
    "census_out['% Immigrant'] = (raw_census.loc[raw_census.DIM == 'Immigrants', 'Total'] /\n",
    "                             raw_census.loc[raw_census.DIM == 'Total - Immigrant status and period of immigration for the population in private households - 25% sample data', 'Total'] *\n",
    "                             100).round(2)"
   ]
  },
  {
   "cell_type": "code",
   "execution_count": 215,
   "metadata": {},
   "outputs": [],
   "source": [
    "census_out['Household Med. Income'] = raw_census.loc[raw_census.DIM == 'Median total income of households in 2015 ($)', 'Total']\n",
    "census_out['1p Household Med. Income'] = raw_census.loc[raw_census.DIM == 'Median total income of one-person households in 2015 ($)', 'Total']\n",
    "census_out['2+p Household Med. Income'] =raw_census.loc[raw_census.DIM == 'Median total income of two-or-more-person households in 2015 ($)', 'Total']"
   ]
  },
  {
   "cell_type": "code",
   "execution_count": 219,
   "metadata": {
    "scrolled": false
   },
   "outputs": [],
   "source": [
    "census_out.to_csv('formatted_census_data.csv')"
   ]
  }
 ],
 "metadata": {
  "kernelspec": {
   "display_name": "Python 3",
   "language": "python",
   "name": "python3"
  },
  "language_info": {
   "codemirror_mode": {
    "name": "ipython",
    "version": 3
   },
   "file_extension": ".py",
   "mimetype": "text/x-python",
   "name": "python",
   "nbconvert_exporter": "python",
   "pygments_lexer": "ipython3",
   "version": "3.7.0"
  }
 },
 "nbformat": 4,
 "nbformat_minor": 2
}
